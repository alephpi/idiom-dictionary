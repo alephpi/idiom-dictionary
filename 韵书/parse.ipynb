{
 "cells": [
  {
   "cell_type": "code",
   "execution_count": 16,
   "metadata": {},
   "outputs": [],
   "source": [
    "import json"
   ]
  },
  {
   "cell_type": "code",
   "execution_count": 2,
   "metadata": {},
   "outputs": [],
   "source": [
    "import pandas as pd"
   ]
  },
  {
   "cell_type": "code",
   "execution_count": 3,
   "metadata": {},
   "outputs": [],
   "source": [
    "filter_index = ['京-聲韻', '京-聲韻調', '粵-聲', '粵-韻', '粵-調', '粵-聲韻調', '字頭', '呼', '等', '韻部', '調', '聲類', '攝', '中古拼音(polyhedron 版)','轉簡']"
   ]
  },
  {
   "cell_type": "code",
   "execution_count": 4,
   "metadata": {},
   "outputs": [],
   "source": [
    "df = pd.read_excel('./粵音小鏡(20160723).xls', sheet_name= 3,header=0, usecols=filter_index)"
   ]
  },
  {
   "cell_type": "code",
   "execution_count": 5,
   "metadata": {},
   "outputs": [],
   "source": [
    "with open('../总成语表.json', 'r', encoding='utf-8') as file:\n",
    "    dict_idiom = json.load(file)"
   ]
  },
  {
   "cell_type": "code",
   "execution_count": 1,
   "metadata": {},
   "outputs": [],
   "source": [
    "import opencc"
   ]
  },
  {
   "cell_type": "code",
   "execution_count": 2,
   "metadata": {},
   "outputs": [],
   "source": [
    "converter = opencc.OpenCC('s2t.json')"
   ]
  },
  {
   "cell_type": "code",
   "execution_count": 6,
   "metadata": {},
   "outputs": [
    {
     "data": {
      "text/plain": [
       "'羣'"
      ]
     },
     "execution_count": 6,
     "metadata": {},
     "output_type": "execute_result"
    }
   ],
   "source": [
    "converter.convert('群')"
   ]
  },
  {
   "cell_type": "code",
   "execution_count": 9,
   "metadata": {},
   "outputs": [],
   "source": [
    "from typing import Tuple\n",
    "\n",
    "def translate(pair: Tuple[str, str]):\n",
    "    char, pinyin = pair\n",
    "    item = df.query(\"`字頭` == '{}'\".format(char))\n",
    "    if (item.shape[0] == 0):\n",
    "        # print('Not found '+char)\n",
    "        return item\n",
    "    elif (item.shape[0] == 1):\n",
    "        return item\n",
    "    else:\n",
    "        item = item.query(\"`京-聲韻調`=='{}'\".format(pinyin))\n",
    "        return item"
   ]
  },
  {
   "cell_type": "code",
   "execution_count": 20,
   "metadata": {},
   "outputs": [],
   "source": [
    "from tqdm import tqdm"
   ]
  },
  {
   "cell_type": "code",
   "execution_count": 8,
   "metadata": {},
   "outputs": [],
   "source": [
    "import re"
   ]
  },
  {
   "cell_type": "code",
   "execution_count": 12,
   "metadata": {},
   "outputs": [],
   "source": [
    "def style_transfer(pinyin: str):\n",
    "\n",
    "    pinyin = re.sub(re.compile(r'^(y|j|q|x)u([a-z]*[0-9]?)$'), r'\\1v\\2',pinyin)\n",
    "    pinyin =  re.sub(re.compile(r'y(i?)([^v])'),r'yi\\2',pinyin)\n",
    "    pinyin =  re.sub(re.compile(r'wu?'),'wu',pinyin)\n",
    "    pinyin = pinyin.replace('v', 'ü')\n",
    "    pinyin =  re.sub(re.compile(r'^(b|p|m|f)o([0-9]?)$'), r'\\1uo\\2',pinyin)\n",
    "    pinyin = pinyin.replace(r'iu', 'iou').replace(r'ui', 'uei').replace(r'un', 'uen')\n",
    "    \n",
    "    return pinyin"
   ]
  },
  {
   "cell_type": "code",
   "execution_count": 13,
   "metadata": {},
   "outputs": [
    {
     "name": "stdout",
     "output_type": "stream",
     "text": [
      "jü\n",
      "lu\n",
      "yü\n",
      "yiao\n",
      "liou\n",
      "yün\n",
      "luen\n",
      "kuei\n",
      "wuei\n",
      "wueng\n",
      "yiong\n",
      "xiou\n"
     ]
    }
   ],
   "source": [
    "print(style_transfer('ju'))\n",
    "print(style_transfer('lu'))\n",
    "print(style_transfer('yu'))\n",
    "print(style_transfer('yao'))\n",
    "print(style_transfer('liu'))\n",
    "print(style_transfer('yun'))\n",
    "print(style_transfer('lun'))\n",
    "print(style_transfer('kui'))\n",
    "print(style_transfer('wei'))\n",
    "print(style_transfer('weng'))\n",
    "print(style_transfer('yong'))\n",
    "print(style_transfer('xiu'))"
   ]
  },
  {
   "cell_type": "code",
   "execution_count": 14,
   "metadata": {},
   "outputs": [],
   "source": [
    "import sys"
   ]
  },
  {
   "cell_type": "code",
   "execution_count": 60,
   "metadata": {},
   "outputs": [],
   "source": [
    "import pingyam_converter as py_converter"
   ]
  },
  {
   "cell_type": "code",
   "execution_count": 63,
   "metadata": {},
   "outputs": [
    {
     "name": "stderr",
     "output_type": "stream",
     "text": [
      "100%|██████████| 29738/29738 [11:22<00:00, 43.58it/s]\n"
     ]
    }
   ],
   "source": [
    "dict_idiom_yueping = {}\n",
    "heteronym = {}\n",
    "no_yueping = {}\n",
    "for (idiom, phone) in tqdm(dict_idiom.items()):\n",
    "    idiom_trad = converter.convert(idiom)\n",
    "    pinyins = phone.split(' ')\n",
    "    pingyams = []\n",
    "    \n",
    "    for index, char in enumerate(idiom_trad):\n",
    "        pinyin = pinyins[index]\n",
    "        transfered_pinyin = style_transfer(pinyin)\n",
    "        item = translate((char,transfered_pinyin))[\"粵-聲韻調\"]\n",
    "        # try:\n",
    "        #     pingyam = py_converter.converter(pingyam, from_style='广州拼音', to_style='粤拼')\n",
    "        # except:\n",
    "        #     print(pingyam)\n",
    "        if (item.shape[0] != 0):    \n",
    "            pingyam = item.iloc[0]\n",
    "            pingyams.append(pingyam)\n",
    "            if(item.shape[0] > 1):\n",
    "                heteronym.update({char: pingyam})\n",
    "        else:\n",
    "            pingyams.append('?')\n",
    "            no_yueping.update({char: pingyam})\n",
    "            # sys.stdout.write(\"%s \\t %s\" % (len(no_yueping), {char: (pinyin, transfered_pinyin) }))\n",
    "            # sys.stdout.flush()\n",
    "        \n",
    "    dict_idiom_yueping[idiom] = ' '.join(pingyams)\n"
   ]
  },
  {
   "cell_type": "code",
   "execution_count": 64,
   "metadata": {},
   "outputs": [
    {
     "data": {
      "text/plain": [
       "217"
      ]
     },
     "execution_count": 64,
     "metadata": {},
     "output_type": "execute_result"
    }
   ],
   "source": [
    "#文白异读\n",
    "len(heteronym)"
   ]
  },
  {
   "cell_type": "code",
   "execution_count": 65,
   "metadata": {},
   "outputs": [],
   "source": [
    "with open('./粤语成语表（广州拼音）.json', 'w', encoding='utf-8') as outfile:\n",
    "    json.dump(dict_idiom_yueping,outfile,  ensure_ascii=False, indent=0)"
   ]
  },
  {
   "cell_type": "code",
   "execution_count": 13,
   "metadata": {},
   "outputs": [],
   "source": [
    "data = pd.read_csv('./pingyambiu.txt', sep='\\t', header=None, usecols=[6, 7])\n",
    "data.columns = ['粤拼', '广州拼音']"
   ]
  },
  {
   "cell_type": "code",
   "execution_count": 42,
   "metadata": {},
   "outputs": [],
   "source": [
    "import re"
   ]
  },
  {
   "cell_type": "code",
   "execution_count": 84,
   "metadata": {},
   "outputs": [],
   "source": [
    "with open('./粤语成语表（广州拼音）.json', 'r', encoding='utf-8') as file:\n",
    "    txt = file.read()"
   ]
  },
  {
   "cell_type": "code",
   "execution_count": 89,
   "metadata": {},
   "outputs": [
    {
     "name": "stderr",
     "output_type": "stream",
     "text": [
      "100%|██████████| 3946/3946 [02:14<00:00, 29.40it/s]\n"
     ]
    }
   ],
   "source": [
    "#使用香港学会标准\n",
    "for ind in tqdm(data.index):\n",
    "    old = re.compile('(?<=[^a-z]){}(?=[^a-z])'.format(data.iloc[ind]['广州拼音']))\n",
    "    new = data.iloc[ind]['粤拼']\n",
    "    txt = re.sub(old, new, txt)\n",
    "    # break"
   ]
  },
  {
   "cell_type": "code",
   "execution_count": 90,
   "metadata": {},
   "outputs": [],
   "source": [
    "with open('./粤语成语表（香港拼音）.json', 'w', encoding='utf-8') as outfile:\n",
    "    outfile.write(txt)"
   ]
  },
  {
   "cell_type": "code",
   "execution_count": 83,
   "metadata": {},
   "outputs": [
    {
     "name": "stdout",
     "output_type": "stream",
     "text": [
      "jing1 ging1 yig6 yig6\n",
      "ging1 ging1 jik6 yig6\n"
     ]
    }
   ],
   "source": [
    "old1 = re.compile(r'([\" ]){}([ \"])'.format('jing1'), flags=re.M)\n",
    "print(re.sub(old1, r\"\\1{}\\2\".format('ging1'), 'jing1 jing1 yig6 yig6'))\n",
    "\n",
    "old2 = re.compile(r'([\" ]){}([ \"])'.format('yig6'))\n",
    "print(re.sub(old2, r\"\\1{}\\2\".format('jik6'), 'ging1 ging1 yig6 yig6'))"
   ]
  },
  {
   "cell_type": "markdown",
   "metadata": {},
   "source": [
    "### fix customized pingyam style in `粤音小镜.json`"
   ]
  },
  {
   "cell_type": "code",
   "execution_count": 9,
   "metadata": {},
   "outputs": [],
   "source": [
    "idioms = {}\n",
    "phones = set()\n",
    "with open('./粤语成语表（香港拼音）.json', 'r', encoding='utf-8') as file:\n",
    "    for line in file:\n",
    "        if '?' in line:\n",
    "            idiom, phone = line.strip('\\n').replace('\\\"','').replace(',','').split(': ')\n",
    "            phone_list = phone.split(' ')\n",
    "            phones = phones.union(set(phone_list))\n",
    "            idioms.update({idiom: phone_list})\n",
    "\n",
    "\n",
    "with open('./粤语成语表（香港拼音）.json', 'r', encoding='utf-8') as file:\n",
    "    txt = file.read()\n"
   ]
  },
  {
   "cell_type": "code",
   "execution_count": 22,
   "metadata": {},
   "outputs": [
    {
     "data": {
      "text/plain": [
       "'{\\n    \"一世之雄\": \"jat1 sai3 zi1 hung4\",\\n    \"一世英名\": \"jat1 sai3 jing1 ming4\",\\n    \"一世龙门\": \"jat1 sai3 lun'"
      ]
     },
     "execution_count": 22,
     "metadata": {},
     "output_type": "execute_result"
    }
   ],
   "source": [
    "txt[:100]"
   ]
  },
  {
   "cell_type": "code",
   "execution_count": 23,
   "metadata": {},
   "outputs": [],
   "source": [
    "phones_to_be_normalized = []\n",
    "for phone in phones:\n",
    "    # phone = phone[:-1]\n",
    "    if not phone in data['粤拼'].unique().tolist():\n",
    "        phones_to_be_normalized.append(phone)"
   ]
  },
  {
   "cell_type": "code",
   "execution_count": 24,
   "metadata": {},
   "outputs": [
    {
     "data": {
      "text/plain": [
       "['xun5',\n",
       " 'ju2',\n",
       " 'yêu5',\n",
       " 'ju6',\n",
       " 'guad3',\n",
       " 'sêu3',\n",
       " 'jun1',\n",
       " 'gêu3',\n",
       " 'qun3',\n",
       " 'yu4',\n",
       " 'guo2',\n",
       " 'hêu1',\n",
       " 'yun3',\n",
       " 'lêu5',\n",
       " 'guai1',\n",
       " 'xud3',\n",
       " 'kuang1',\n",
       " 'xun4',\n",
       " 'xu4',\n",
       " 'qu2',\n",
       " 'guei6',\n",
       " 'sêu5',\n",
       " 'guong1',\n",
       " 'xu2',\n",
       " 'gua3',\n",
       " 'cêu4',\n",
       " 'yêu6',\n",
       " 'hêu3',\n",
       " 'guan1',\n",
       " 'guei1',\n",
       " 'gued1',\n",
       " 'cêu1',\n",
       " 'lêu6',\n",
       " 'yun4',\n",
       " 'kêu1',\n",
       " 'yun1',\n",
       " 'têu1',\n",
       " 'zêu2',\n",
       " 'yun5',\n",
       " 'dêu3',\n",
       " 'xun2',\n",
       " 'jun2',\n",
       " 'kua1',\n",
       " 'gua2',\n",
       " 'yud6',\n",
       " 'guei2',\n",
       " 'zêu6',\n",
       " 'gueng1',\n",
       " 'lêu3',\n",
       " 'kuen4',\n",
       " 'jud3',\n",
       " 'sêu2',\n",
       " 'gêu2',\n",
       " 'yu6',\n",
       " 'xun1',\n",
       " 'cêu2',\n",
       " 'jud6',\n",
       " 'kuen3',\n",
       " 'ju3',\n",
       " 'jun3',\n",
       " 'zêu1',\n",
       " 'qud3',\n",
       " 'qu5',\n",
       " 'yu1',\n",
       " 'guo3',\n",
       " 'xu6',\n",
       " 'guo1',\n",
       " 'lêu4',\n",
       " 'kuei1',\n",
       " 'gêu1',\n",
       " 'gua1',\n",
       " 'guig1',\n",
       " 'gued6',\n",
       " 'guog3',\n",
       " 'qun4',\n",
       " 'qu4',\n",
       " 'qun1',\n",
       " 'guei3',\n",
       " 'guai2',\n",
       " 'têu3',\n",
       " 'guai3',\n",
       " 'sêu4',\n",
       " 'nêu5',\n",
       " 'yu5',\n",
       " 'kuong3',\n",
       " 'yun2',\n",
       " 'xu1',\n",
       " 'cêu3',\n",
       " 'ju1',\n",
       " 'guen1',\n",
       " 'gêu6',\n",
       " 'sêu6',\n",
       " '?']"
      ]
     },
     "execution_count": 24,
     "metadata": {},
     "output_type": "execute_result"
    }
   ],
   "source": [
    "phones_to_be_normalized"
   ]
  },
  {
   "cell_type": "code",
   "execution_count": 25,
   "metadata": {},
   "outputs": [
    {
     "name": "stderr",
     "output_type": "stream",
     "text": [
      " 99%|█████████▉| 92/93 [00:04<00:00, 18.95it/s]\n"
     ]
    }
   ],
   "source": [
    "#使用香港学会标准\n",
    "phones_to_be_normalized_remained = []\n",
    "for phone in tqdm(phones_to_be_normalized):\n",
    "    old = re.compile('(?<=[^a-z]){}(?=[^a-z])'.format(phone))\n",
    "    try:\n",
    "        new = data[data['广州拼音'] == phone]['粤拼'].iloc[0]\n",
    "    except:\n",
    "        tmpl = re.compile(r'(k|g)u')\n",
    "        phone_u_to_w = re.sub(tmpl, r'\\1w', phone)\n",
    "        try:\n",
    "            new = data[data['广州拼音'] == phone_u_to_w]['粤拼'].iloc[0]\n",
    "        except:\n",
    "            phones_to_be_normalized_remained.append(phone)\n",
    "            break\n",
    "    txt = re.sub(old, new, txt)\n",
    "    # break"
   ]
  },
  {
   "cell_type": "code",
   "execution_count": 27,
   "metadata": {},
   "outputs": [
    {
     "data": {
      "text/plain": [
       "'{\\n    \"一世之雄\": \"jat1 sai3 zi1 hung4\",\\n    \"一世英名\": \"jat1 sai3 jing1 ming4\",\\n    \"一世龙门\": \"jat1 sai3 lung4 mun4\",\\n'"
      ]
     },
     "execution_count": 27,
     "metadata": {},
     "output_type": "execute_result"
    }
   ],
   "source": [
    "txt[:110]"
   ]
  },
  {
   "cell_type": "code",
   "execution_count": 28,
   "metadata": {},
   "outputs": [
    {
     "data": {
      "text/plain": [
       "['?']"
      ]
     },
     "execution_count": 28,
     "metadata": {},
     "output_type": "execute_result"
    }
   ],
   "source": [
    "phones_to_be_normalized_remained"
   ]
  },
  {
   "cell_type": "code",
   "execution_count": 29,
   "metadata": {},
   "outputs": [],
   "source": [
    "with open('./粤语成语表（香港拼音）.json', 'w', encoding='utf-8') as outfile:\n",
    "    outfile.write(txt)"
   ]
  },
  {
   "cell_type": "code",
   "execution_count": 30,
   "metadata": {},
   "outputs": [
    {
     "data": {
      "text/plain": [
       "2539"
      ]
     },
     "execution_count": 30,
     "metadata": {},
     "output_type": "execute_result"
    }
   ],
   "source": [
    "len(idioms)"
   ]
  },
  {
   "cell_type": "code",
   "execution_count": 3,
   "metadata": {},
   "outputs": [],
   "source": [
    "import sqlite3"
   ]
  },
  {
   "cell_type": "code",
   "execution_count": 4,
   "metadata": {},
   "outputs": [],
   "source": [
    "path = './mcpdict.db'\n",
    "conn = sqlite3.connect(path)"
   ]
  },
  {
   "cell_type": "code",
   "execution_count": 6,
   "metadata": {},
   "outputs": [],
   "source": [
    "cursor = conn.cursor()"
   ]
  },
  {
   "cell_type": "code",
   "execution_count": null,
   "metadata": {},
   "outputs": [],
   "source": [
    "cursor.execute()"
   ]
  },
  {
   "cell_type": "code",
   "execution_count": 11,
   "metadata": {},
   "outputs": [],
   "source": [
    "def lookup_db(cursor, unicode):\n",
    "    cursor.execute('''SELECT ct FROM mcpdict WHERE unicode=?''', (unicode,))\n",
    "    row = cursor.fetchone()\n",
    "    return row"
   ]
  },
  {
   "cell_type": "code",
   "execution_count": 26,
   "metadata": {},
   "outputs": [],
   "source": [
    "with open('./粤语成语表（香港拼音）.json', 'r', encoding='utf-8') as file:\n",
    "    idioms = json.load(file)"
   ]
  },
  {
   "cell_type": "code",
   "execution_count": 27,
   "metadata": {},
   "outputs": [
    {
     "name": "stderr",
     "output_type": "stream",
     "text": [
      "100%|██████████| 29738/29738 [00:33<00:00, 877.11it/s] \n"
     ]
    }
   ],
   "source": [
    "for (idiom, phones) in tqdm(idioms.items()):\n",
    "    phone_list = phones.split(' ')\n",
    "    if '?' in phone_list:\n",
    "        indices = [i for i,k in enumerate(phone_list) if k == '?']\n",
    "        for ind in indices:\n",
    "            char = converter.convert(idiom[ind])\n",
    "            unicode_ord = str(hex(ord(char)))[2:].upper()\n",
    "            phone = lookup_db(cursor, unicode_ord)\n",
    "            if phone[0] == None:\n",
    "                phone_list[ind] = '??'\n",
    "            else:\n",
    "                phone_list[ind] = phone[0]\n",
    "        idioms[idiom] = ' '.join(phone_list)\n"
   ]
  },
  {
   "cell_type": "code",
   "execution_count": 29,
   "metadata": {},
   "outputs": [],
   "source": [
    "with open('./粤语成语表（香港拼音）.json', 'w', encoding='utf-8') as outfile:\n",
    "    json.dump(idioms, outfile, ensure_ascii=False, indent=0)"
   ]
  },
  {
   "cell_type": "code",
   "execution_count": 30,
   "metadata": {},
   "outputs": [],
   "source": [
    "conn.close()"
   ]
  },
  {
   "cell_type": "code",
   "execution_count": 23,
   "metadata": {},
   "outputs": [
    {
     "data": {
      "text/plain": [
       "['haa6', None, 'zau2', 'jyun4']"
      ]
     },
     "execution_count": 23,
     "metadata": {},
     "output_type": "execute_result"
    }
   ],
   "source": [
    "phone_list"
   ]
  },
  {
   "cell_type": "code",
   "execution_count": 24,
   "metadata": {},
   "outputs": [
    {
     "data": {
      "text/plain": [
       "(None,)"
      ]
     },
     "execution_count": 24,
     "metadata": {},
     "output_type": "execute_result"
    }
   ],
   "source": [
    "phone"
   ]
  },
  {
   "cell_type": "code",
   "execution_count": 25,
   "metadata": {},
   "outputs": [
    {
     "data": {
      "text/plain": [
       "'坂'"
      ]
     },
     "execution_count": 25,
     "metadata": {},
     "output_type": "execute_result"
    }
   ],
   "source": [
    "char"
   ]
  },
  {
   "cell_type": "code",
   "execution_count": 18,
   "metadata": {},
   "outputs": [
    {
     "data": {
      "text/plain": [
       "tuple"
      ]
     },
     "execution_count": 18,
     "metadata": {},
     "output_type": "execute_result"
    }
   ],
   "source": [
    "type(phone)"
   ]
  },
  {
   "cell_type": "code",
   "execution_count": 40,
   "metadata": {},
   "outputs": [
    {
     "name": "stdout",
     "output_type": "stream",
     "text": [
      "b'\\\\u9a6a'\n"
     ]
    }
   ],
   "source": [
    "unicode_raw.s"
   ]
  },
  {
   "cell_type": "code",
   "execution_count": 37,
   "metadata": {},
   "outputs": [
    {
     "data": {
      "text/plain": [
       "'    一串骊珠'"
      ]
     },
     "execution_count": 37,
     "metadata": {},
     "output_type": "execute_result"
    }
   ],
   "source": [
    "idiom"
   ]
  },
  {
   "cell_type": "code",
   "execution_count": 33,
   "metadata": {},
   "outputs": [
    {
     "data": {
      "text/plain": [
       "1"
      ]
     },
     "execution_count": 33,
     "metadata": {},
     "output_type": "execute_result"
    }
   ],
   "source": [
    "\"jat1 ? jat1 ?\".split(' ').index('?')"
   ]
  },
  {
   "cell_type": "markdown",
   "metadata": {},
   "source": [
    "### fix no pronounciation characters by mcpdict database"
   ]
  }
 ],
 "metadata": {
  "kernelspec": {
   "display_name": "Python 3.9.0 ('base')",
   "language": "python",
   "name": "python3"
  },
  "language_info": {
   "codemirror_mode": {
    "name": "ipython",
    "version": 3
   },
   "file_extension": ".py",
   "mimetype": "text/x-python",
   "name": "python",
   "nbconvert_exporter": "python",
   "pygments_lexer": "ipython3",
   "version": "3.9.0"
  },
  "orig_nbformat": 4,
  "vscode": {
   "interpreter": {
    "hash": "88279d2366fe020547cde40dd65aa0e3aa662a6ec1f3ca12d88834876c85e1a6"
   }
  }
 },
 "nbformat": 4,
 "nbformat_minor": 2
}
