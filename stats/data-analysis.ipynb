{
 "cells": [
  {
   "cell_type": "code",
   "execution_count": 1,
   "metadata": {},
   "outputs": [],
   "source": [
    "import json\n",
    "path_pinyin_hanzi = './pinyin-hanzi-dict.json'\n",
    "path_hanzi_pinyin_monophone = './单音字表.json'\n",
    "path_hanzi_pinyin_polyphones = './多音字表.json'\n",
    "dict_hanzi_pinyin_monophone = {}\n",
    "dict_hanzi_pinyin_polyphones = {}\n",
    "list_no_char_phone = []"
   ]
  },
  {
   "cell_type": "code",
   "execution_count": 3,
   "metadata": {},
   "outputs": [],
   "source": [
    "with open(path_pinyin_hanzi, 'r', encoding='utf-8') as file:\n",
    "    dict_pinyin_hanzi = json.load(file)"
   ]
  },
  {
   "cell_type": "code",
   "execution_count": 4,
   "metadata": {},
   "outputs": [],
   "source": [
    "\n",
    "for (phone,chars) in dict_pinyin_hanzi.items():\n",
    "    list_phone = phone.split(',')\n",
    "    list_char = list(chars)\n",
    "    if (len(list_char) == 0):\n",
    "        list_no_char_phone.append(phone) \n",
    "    else:\n",
    "        if (len(list_phone) == 1):\n",
    "            for char in list_char:\n",
    "                dict_hanzi_pinyin_monophone[char] = phone\n",
    "        else:\n",
    "            for char in list_char:\n",
    "                dict_hanzi_pinyin_polyphones[char] = phone\n"
   ]
  },
  {
   "cell_type": "code",
   "execution_count": 5,
   "metadata": {},
   "outputs": [],
   "source": [
    "\n",
    "with open(path_hanzi_pinyin_monophone, 'w', encoding='utf-8') as outfile:\n",
    "    json.dump(dict_hanzi_pinyin_monophone, outfile, ensure_ascii=False, indent=0)\n",
    "\n",
    "with open(path_hanzi_pinyin_polyphones, 'w', encoding='utf-8') as outfile:\n",
    "    json.dump(dict_hanzi_pinyin_polyphones, outfile, ensure_ascii=False, indent=0)\n"
   ]
  }
 ],
 "metadata": {
  "kernelspec": {
   "display_name": "Python 3.7.6 ('base')",
   "language": "python",
   "name": "python3"
  },
  "language_info": {
   "codemirror_mode": {
    "name": "ipython",
    "version": 3
   },
   "file_extension": ".py",
   "mimetype": "text/x-python",
   "name": "python",
   "nbconvert_exporter": "python",
   "pygments_lexer": "ipython3",
   "version": "3.7.6"
  },
  "orig_nbformat": 4,
  "vscode": {
   "interpreter": {
    "hash": "88279d2366fe020547cde40dd65aa0e3aa662a6ec1f3ca12d88834876c85e1a6"
   }
  }
 },
 "nbformat": 4,
 "nbformat_minor": 2
}
