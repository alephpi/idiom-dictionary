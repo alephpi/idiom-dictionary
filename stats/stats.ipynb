{
 "cells": [
  {
   "cell_type": "code",
   "execution_count": 1,
   "metadata": {},
   "outputs": [],
   "source": [
    "import json"
   ]
  },
  {
   "cell_type": "code",
   "execution_count": 2,
   "metadata": {},
   "outputs": [],
   "source": [
    "with open('../总成语表.json', 'r', encoding='utf-8') as file:\n",
    "    dict_total = json.load(file)"
   ]
  },
  {
   "cell_type": "code",
   "execution_count": 33,
   "metadata": {},
   "outputs": [],
   "source": [
    "dict_char = {}\n",
    "for (idiom, phones) in dict_total.items():\n",
    "    for index, char in enumerate(idiom):\n",
    "        char_phone = phones.split(' ')[index]\n",
    "        if not char in dict_char.keys():\n",
    "            dict_char[char] = [char_phone]\n",
    "        else:\n",
    "            dict_char[char].append(char_phone)"
   ]
  },
  {
   "cell_type": "code",
   "execution_count": 43,
   "metadata": {},
   "outputs": [],
   "source": [
    "dict_char = {}\n",
    "for char in set_char:\n",
    "    dict_char[char] = py.pinyin(char)[0]"
   ]
  },
  {
   "cell_type": "code",
   "execution_count": 57,
   "metadata": {},
   "outputs": [],
   "source": [
    "dict_py = {}\n",
    "dict_py_number = {}\n",
    "for (key,values) in dict_char.items():\n",
    "    for value in values:\n",
    "        if (not value in dict_py.keys()):\n",
    "            dict_py[value] = list(key)\n",
    "            dict_py_number[value] = 1\n",
    "        else:\n",
    "            dict_py[value].append(key)\n",
    "            dict_py_number[value] += 1\n",
    "\n"
   ]
  },
  {
   "cell_type": "code",
   "execution_count": 65,
   "metadata": {},
   "outputs": [],
   "source": [
    "with open('dict_py.json', 'w', encoding='utf-8') as outfile:\n",
    "    json.dump(dict_py, outfile, ensure_ascii=False, indent=0)"
   ]
  },
  {
   "cell_type": "code",
   "execution_count": 64,
   "metadata": {},
   "outputs": [],
   "source": [
    "with open('dict_py_number.json', 'w', encoding='utf-8') as outfile:\n",
    "    json.dump(dict_py_number, outfile, ensure_ascii=False, indent=2)"
   ]
  },
  {
   "cell_type": "code",
   "execution_count": 66,
   "metadata": {},
   "outputs": [],
   "source": [
    "import pandas as pd"
   ]
  },
  {
   "cell_type": "code",
   "execution_count": 72,
   "metadata": {},
   "outputs": [],
   "source": [
    "df_py = pd.Series(dict_py_number)"
   ]
  },
  {
   "cell_type": "code",
   "execution_count": 77,
   "metadata": {},
   "outputs": [
    {
     "data": {
      "text/plain": [
       "něi       1\n",
       "cùn       1\n",
       "zhá       1\n",
       "nǎn       1\n",
       "shuài     1\n",
       "         ..\n",
       "bì       27\n",
       "zhì      28\n",
       "xī       30\n",
       "shì      30\n",
       "yì       40\n",
       "Length: 1111, dtype: int64"
      ]
     },
     "execution_count": 77,
     "metadata": {},
     "output_type": "execute_result"
    }
   ],
   "source": [
    "df_py.sort_values()"
   ]
  },
  {
   "cell_type": "code",
   "execution_count": 106,
   "metadata": {},
   "outputs": [],
   "source": [
    "#py count per word\n",
    "dict_py_number_per_word = {}\n",
    "list_py = []\n",
    "with open('../data/idioms.txt','r',encoding='utf-8') as file:\n",
    "    for line in file:\n",
    "        l = line.strip()\n",
    "        list_py.append(set(py.lazy_pinyin(list(l), style=py.STYLE_TONE3)))\n",
    "\n",
    "with open('../data/polyphones.json', 'r', encoding='utf-8') as file:\n",
    "    data = json.load(file)\n",
    "    for (key,value) in data.items():\n",
    "        list_py.append(set(value.split()))\n",
    "\n",
    "for set_py in list_py:\n",
    "    for item in set_py:\n",
    "        if (not item in dict_py_number_per_word.keys()):\n",
    "            dict_py_number_per_word[item] = 1\n",
    "        else:\n",
    "            dict_py_number_per_word[item] +=1\n"
   ]
  },
  {
   "cell_type": "code",
   "execution_count": 109,
   "metadata": {},
   "outputs": [
    {
     "data": {
      "text/plain": [
       "1181"
      ]
     },
     "execution_count": 109,
     "metadata": {},
     "output_type": "execute_result"
    }
   ],
   "source": [
    "len(dict_py_number_per_word)"
   ]
  },
  {
   "cell_type": "code",
   "execution_count": 110,
   "metadata": {},
   "outputs": [
    {
     "data": {
      "text/plain": [
       "29760"
      ]
     },
     "execution_count": 110,
     "metadata": {},
     "output_type": "execute_result"
    }
   ],
   "source": [
    "len(list_py)"
   ]
  },
  {
   "cell_type": "code",
   "execution_count": 111,
   "metadata": {},
   "outputs": [],
   "source": [
    "df_py_number_per_word = pd.Series(dict_py_number_per_word)"
   ]
  },
  {
   "cell_type": "code",
   "execution_count": 115,
   "metadata": {},
   "outputs": [
    {
     "data": {
      "text/plain": [
       "dun3      1\n",
       "shang2    1\n",
       "chui4     1\n",
       "qiang4    1\n",
       "de4       1\n",
       "li        1\n",
       "zai2      1\n",
       "qiu4      1\n",
       "sou4      1\n",
       "biao4     1\n",
       "ru1       1\n",
       "ge3       1\n",
       "weng3     1\n",
       "shou2     1\n",
       "zhen2     2\n",
       "da        2\n",
       "ai2       2\n",
       "ming3     2\n",
       "zhong2    2\n",
       "chai4     2\n",
       "rui2      2\n",
       "sao4      2\n",
       "lve3      2\n",
       "tuo3      2\n",
       "pou2      2\n",
       "shua1     2\n",
       "peng4     2\n",
       "zhuai4    2\n",
       "chao3     2\n",
       "hen2      2\n",
       "kou1      2\n",
       "zan3      2\n",
       "nao4      2\n",
       "meng1     2\n",
       "jv4       2\n",
       "ha2       2\n",
       "shuan1    2\n",
       "zuan3     2\n",
       "pie1      2\n",
       "me        2\n",
       "ga4       2\n",
       "chan1     2\n",
       "du1       2\n",
       "chuai3    2\n",
       "mu2       2\n",
       "chun3     2\n",
       "xiong4    2\n",
       "tui3      2\n",
       "kui3      3\n",
       "zen4      3\n",
       "dtype: int64"
      ]
     },
     "execution_count": 115,
     "metadata": {},
     "output_type": "execute_result"
    }
   ],
   "source": [
    "df_py_number_per_word.sort_values()[50:100]"
   ]
  },
  {
   "cell_type": "code",
   "execution_count": 90,
   "metadata": {},
   "outputs": [
    {
     "data": {
      "text/plain": [
       "<AxesSubplot:>"
      ]
     },
     "execution_count": 90,
     "metadata": {},
     "output_type": "execute_result"
    },
    {
     "data": {
      "image/png": "[encoded data removed]",
      "text/plain": [
       "<Figure size 432x288 with 1 Axes>"
      ]
     },
     "metadata": {
      "needs_background": "light"
     },
     "output_type": "display_data"
    }
   ],
   "source": [
    "df_py_number_per_word.sort_values().plot()"
   ]
  },
  {
   "cell_type": "code",
   "execution_count": 97,
   "metadata": {},
   "outputs": [
    {
     "data": {
      "text/plain": [
       "10.0"
      ]
     },
     "execution_count": 97,
     "metadata": {},
     "output_type": "execute_result"
    }
   ],
   "source": [
    "df_py_number_per_word.quantile(.2)"
   ]
  },
  {
   "cell_type": "code",
   "execution_count": null,
   "metadata": {},
   "outputs": [],
   "source": []
  }
 ],
 "metadata": {
  "kernelspec": {
   "display_name": "Python 3.7.6 ('base')",
   "language": "python",
   "name": "python3"
  },
  "language_info": {
   "codemirror_mode": {
    "name": "ipython",
    "version": 3
   },
   "file_extension": ".py",
   "mimetype": "text/x-python",
   "name": "python",
   "nbconvert_exporter": "python",
   "pygments_lexer": "ipython3",
   "version": "3.7.6"
  },
  "orig_nbformat": 4,
  "vscode": {
   "interpreter": {
    "hash": "88279d2366fe020547cde40dd65aa0e3aa662a6ec1f3ca12d88834876c85e1a6"
   }
  }
 },
 "nbformat": 4,
 "nbformat_minor": 2
}
