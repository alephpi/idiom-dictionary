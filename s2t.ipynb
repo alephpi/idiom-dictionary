{
 "cells": [
  {
   "cell_type": "code",
   "execution_count": 1,
   "metadata": {},
   "outputs": [],
   "source": [
    "import json"
   ]
  },
  {
   "cell_type": "code",
   "execution_count": 8,
   "metadata": {},
   "outputs": [],
   "source": [
    "a = json.loads('{\"heteronyms\": [{\"bopomofo\": \"ㄧ ㄐㄩˇ ㄌㄧㄤˇ ㄉㄜˊ\",\"bopomofo2\": \"yī jiǔ liǎng dé\",\"definitions\": [{\"antonyms\": \"顧此失彼\",\"def\": \"比喻一種舉動同時兼收兩利。\",\"link\": [\"亦作「一舉兩便」。\"],\"quote\": [\"晉書．卷五十一．束晳傳：「一舉兩得，外實內寬，增廣窮人之業，以闢西郊之田，此又農事之大益也。」\",\"警世通言．卷一．俞伯牙摔琴謝知音：「伯牙討這個差使，一來，是個大才，不辱君命；二來，就便省視鄉里，一舉兩得。」\"],\"synonyms\": \"兩全其美,一箭雙鵰,一石二鳥\"}],\"pinyin\": \"yī jǔ liǎng dé\"}],\"title\": \"一舉兩得\"}')"
   ]
  },
  {
   "cell_type": "code",
   "execution_count": 9,
   "metadata": {},
   "outputs": [
    {
     "data": {
      "text/plain": [
       "{'heteronyms': [{'bopomofo': 'ㄧ ㄐㄩˇ ㄌㄧㄤˇ ㄉㄜˊ',\n",
       "   'bopomofo2': 'yī jiǔ liǎng dé',\n",
       "   'definitions': [{'antonyms': '顧此失彼',\n",
       "     'def': '比喻一種舉動同時兼收兩利。',\n",
       "     'link': ['亦作「一舉兩便」。'],\n",
       "     'quote': ['晉書．卷五十一．束晳傳：「一舉兩得，外實內寬，增廣窮人之業，以闢西郊之田，此又農事之大益也。」',\n",
       "      '警世通言．卷一．俞伯牙摔琴謝知音：「伯牙討這個差使，一來，是個大才，不辱君命；二來，就便省視鄉里，一舉兩得。」'],\n",
       "     'synonyms': '兩全其美,一箭雙鵰,一石二鳥'}],\n",
       "   'pinyin': 'yī jǔ liǎng dé'}],\n",
       " 'title': '一舉兩得'}"
      ]
     },
     "execution_count": 9,
     "metadata": {},
     "output_type": "execute_result"
    }
   ],
   "source": [
    "a"
   ]
  },
  {
   "cell_type": "code",
   "execution_count": 10,
   "metadata": {},
   "outputs": [
    {
     "data": {
      "text/plain": [
       "[{'bopomofo': 'ㄧ ㄐㄩˇ ㄌㄧㄤˇ ㄉㄜˊ',\n",
       "  'bopomofo2': 'yī jiǔ liǎng dé',\n",
       "  'definitions': [{'antonyms': '顧此失彼',\n",
       "    'def': '比喻一種舉動同時兼收兩利。',\n",
       "    'link': ['亦作「一舉兩便」。'],\n",
       "    'quote': ['晉書．卷五十一．束晳傳：「一舉兩得，外實內寬，增廣窮人之業，以闢西郊之田，此又農事之大益也。」',\n",
       "     '警世通言．卷一．俞伯牙摔琴謝知音：「伯牙討這個差使，一來，是個大才，不辱君命；二來，就便省視鄉里，一舉兩得。」'],\n",
       "    'synonyms': '兩全其美,一箭雙鵰,一石二鳥'}],\n",
       "  'pinyin': 'yī jǔ liǎng dé'}]"
      ]
     },
     "execution_count": 10,
     "metadata": {},
     "output_type": "execute_result"
    }
   ],
   "source": [
    "a['heteronyms']"
   ]
  },
  {
   "cell_type": "code",
   "execution_count": 12,
   "metadata": {},
   "outputs": [
    {
     "data": {
      "text/plain": [
       "'yī jǔ liǎng dé'"
      ]
     },
     "execution_count": 12,
     "metadata": {},
     "output_type": "execute_result"
    }
   ],
   "source": [
    "a['heteronyms'][0]['pinyin']"
   ]
  },
  {
   "cell_type": "code",
   "execution_count": null,
   "metadata": {},
   "outputs": [],
   "source": []
  }
 ],
 "metadata": {
  "kernelspec": {
   "display_name": "Python 3.7.6 ('base')",
   "language": "python",
   "name": "python3"
  },
  "language_info": {
   "codemirror_mode": {
    "name": "ipython",
    "version": 3
   },
   "file_extension": ".py",
   "mimetype": "text/x-python",
   "name": "python",
   "nbconvert_exporter": "python",
   "pygments_lexer": "ipython3",
   "version": "3.7.6"
  },
  "orig_nbformat": 4,
  "vscode": {
   "interpreter": {
    "hash": "88279d2366fe020547cde40dd65aa0e3aa662a6ec1f3ca12d88834876c85e1a6"
   }
  }
 },
 "nbformat": 4,
 "nbformat_minor": 2
}
