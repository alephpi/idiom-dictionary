{
 "cells": [
  {
   "cell_type": "code",
   "execution_count": 2,
   "metadata": {},
   "outputs": [],
   "source": [
    "import idiom as im\n",
    "import json\n",
    "from pypinyin.contrib.tone_convert import to_tone3"
   ]
  },
  {
   "cell_type": "code",
   "execution_count": 2,
   "metadata": {},
   "outputs": [],
   "source": [
    "with open('./多音成语表.json', 'r', encoding='utf-8') as file:\n",
    "    dict_polyphone = json.load(file)"
   ]
  },
  {
   "cell_type": "code",
   "execution_count": 5,
   "metadata": {},
   "outputs": [],
   "source": [
    "with open('./多音成语表_萌典注音.json', 'r', encoding='utf-8') as file:\n",
    "    moedict = json.load(file)"
   ]
  },
  {
   "cell_type": "code",
   "execution_count": 8,
   "metadata": {},
   "outputs": [],
   "source": [
    "dict_polyphone_corr = {}\n",
    "for (key, value) in dict_polyphone.items():\n",
    "    i = im.idiom(key)\n",
    "    i.init_phone(value.split(' '))\n",
    "    i.mark_phone(moedict)\n",
    "    for (index, char), phones in i.char_polyphone.items():\n",
    "        # 若萌典注音与默认不同则以萌典为准\n",
    "        if len(phones) == 2:\n",
    "            i.phone[index] = phones[1]\n",
    "    dict_polyphone_corr[i.idiom] = ' '.join(i.phone)\n",
    "        \n",
    "    "
   ]
  },
  {
   "cell_type": "code",
   "execution_count": 6,
   "metadata": {},
   "outputs": [
    {
     "data": {
      "text/plain": [
       "{(1, '丁'): ['ding1', 'ding1'], (2, '不'): ['bu4', 'bu4'], (3, '识'): ['shi2']}"
      ]
     },
     "execution_count": 6,
     "metadata": {},
     "output_type": "execute_result"
    }
   ],
   "source": [
    "i.char_polyphone"
   ]
  },
  {
   "cell_type": "code",
   "execution_count": 9,
   "metadata": {},
   "outputs": [],
   "source": [
    "with open('./多音成语表_校对.json', 'w', encoding='utf-8') as outfile:\n",
    "    json.dump(dict_polyphone_corr, outfile, ensure_ascii=False, indent=0)"
   ]
  },
  {
   "cell_type": "code",
   "execution_count": 10,
   "metadata": {},
   "outputs": [],
   "source": [
    "dict_polyphone_corr_reduced = {}\n",
    "for key in dict_polyphone_corr.keys():\n",
    "    if key in moedict.keys():\n",
    "        dict_polyphone_corr_reduced[key] = dict_polyphone_corr[key]"
   ]
  },
  {
   "cell_type": "code",
   "execution_count": 11,
   "metadata": {},
   "outputs": [],
   "source": [
    "with open('./多音成语表_校对剔除.json', 'w', encoding='utf-8') as outfile:\n",
    "    json.dump(dict_polyphone_corr_reduced, outfile, ensure_ascii=False, indent=0)"
   ]
  },
  {
   "cell_type": "code",
   "execution_count": 3,
   "metadata": {},
   "outputs": [],
   "source": [
    "with open('./多音成语表_校对剔除.json', 'r', encoding='utf-8') as file:\n",
    "    dict_corr = json.load(file)"
   ]
  },
  {
   "cell_type": "code",
   "execution_count": 4,
   "metadata": {},
   "outputs": [],
   "source": [
    "with open('./多音成语表.json', 'r', encoding='utf-8') as file:\n",
    "    dict_polyphone = json.load(file)"
   ]
  },
  {
   "cell_type": "code",
   "execution_count": 5,
   "metadata": {},
   "outputs": [],
   "source": [
    "for key in dict_corr.keys():\n",
    "    dict_polyphone[key] = dict_corr[key]"
   ]
  },
  {
   "cell_type": "code",
   "execution_count": 7,
   "metadata": {},
   "outputs": [],
   "source": [
    "with open('./多音成语表.json', 'w', encoding='utf-8') as outfile:\n",
    "    json.dump(dict_polyphone, outfile, ensure_ascii=False, indent=0)"
   ]
  },
  {
   "cell_type": "code",
   "execution_count": 8,
   "metadata": {},
   "outputs": [],
   "source": [
    "with open('./多音成语表.json', 'r', encoding='utf-8') as file:\n",
    "    dict_polyphone = json.load(file)"
   ]
  },
  {
   "cell_type": "code",
   "execution_count": 9,
   "metadata": {},
   "outputs": [],
   "source": [
    "with open('./单音成语表.json', 'r', encoding='utf-8') as file:\n",
    "    dict_monophone = json.load(file)"
   ]
  },
  {
   "cell_type": "code",
   "execution_count": 10,
   "metadata": {},
   "outputs": [],
   "source": [
    "dict_total = dict_monophone"
   ]
  },
  {
   "cell_type": "code",
   "execution_count": 11,
   "metadata": {},
   "outputs": [],
   "source": [
    "dict_total.update(dict_polyphone)"
   ]
  },
  {
   "cell_type": "code",
   "execution_count": 12,
   "metadata": {},
   "outputs": [
    {
     "data": {
      "text/plain": [
       "29759"
      ]
     },
     "execution_count": 12,
     "metadata": {},
     "output_type": "execute_result"
    }
   ],
   "source": [
    "len(dict_total)"
   ]
  },
  {
   "cell_type": "code",
   "execution_count": 14,
   "metadata": {},
   "outputs": [],
   "source": [
    "with open('./总成语表.json', 'w', encoding='utf-8') as outfile:\n",
    "    json.dump(dict_total, outfile, ensure_ascii=False, indent=0)"
   ]
  },
  {
   "cell_type": "code",
   "execution_count": null,
   "metadata": {},
   "outputs": [],
   "source": []
  }
 ],
 "metadata": {
  "kernelspec": {
   "display_name": "Python 3.7.6 ('base')",
   "language": "python",
   "name": "python3"
  },
  "language_info": {
   "codemirror_mode": {
    "name": "ipython",
    "version": 3
   },
   "file_extension": ".py",
   "mimetype": "text/x-python",
   "name": "python",
   "nbconvert_exporter": "python",
   "pygments_lexer": "ipython3",
   "version": "3.7.6"
  },
  "orig_nbformat": 4,
  "vscode": {
   "interpreter": {
    "hash": "88279d2366fe020547cde40dd65aa0e3aa662a6ec1f3ca12d88834876c85e1a6"
   }
  }
 },
 "nbformat": 4,
 "nbformat_minor": 2
}
